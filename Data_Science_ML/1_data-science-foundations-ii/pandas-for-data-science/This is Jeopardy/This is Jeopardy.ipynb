{
 "cells": [
  {
   "cell_type": "markdown",
   "metadata": {},
   "source": [
    "# This is Jeopardy!"
   ]
  },
  {
   "cell_type": "markdown",
   "metadata": {},
   "source": [
    "#### Overview"
   ]
  },
  {
   "cell_type": "markdown",
   "metadata": {},
   "source": [
    "This project is slightly different than others you have encountered thus far. Instead of a step-by-step tutorial, this project contains a series of open-ended requirements which describe the project you'll be building. There are many possible ways to correctly fulfill all of these requirements, and you should expect to use the internet, Codecademy, and/or other resources when you encounter a problem that you cannot easily solve."
   ]
  },
  {
   "cell_type": "markdown",
   "metadata": {},
   "source": [
    "#### Project Goals"
   ]
  },
  {
   "cell_type": "markdown",
   "metadata": {},
   "source": [
    "You will work to write several functions that investigate a dataset of _Jeopardy!_ questions and answers. Filter the dataset for topics that you're interested in, compute the average difficulty of those questions, and train to become the next Jeopardy champion!"
   ]
  },
  {
   "cell_type": "markdown",
   "metadata": {},
   "source": [
    "## Prerequisites"
   ]
  },
  {
   "cell_type": "markdown",
   "metadata": {},
   "source": [
    "In order to complete this project, you should have completed the Pandas lessons in the <a href=\"https://www.codecademy.com/learn/paths/analyze-data-with-python\">Analyze Data with Python Skill Path</a>. You can also find those lessons in the <a href=\"https://www.codecademy.com/learn/data-processing-pandas\">Data Analysis with Pandas course</a> or the <a href=\"https://www.codecademy.com/learn/paths/data-science/\">Data Scientist Career Path</a>.\n",
    "\n",
    "Finally, the <a href=\"https://www.codecademy.com/learn/practical-data-cleaning\">Practical Data Cleaning</a> course may also be helpful."
   ]
  },
  {
   "cell_type": "markdown",
   "metadata": {},
   "source": [
    "## Project Requirements"
   ]
  },
  {
   "cell_type": "markdown",
   "metadata": {},
   "source": [
    "1. We've provided a csv file containing data about the game show _Jeopardy!_ in a file named `jeopardy.csv`. Load the data into a DataFrame and investigate its contents. Try to print out specific columns.\n",
    "\n",
    "   Note that in order to make this project as \"real-world\" as possible, we haven't modified the data at all - we're giving it to you exactly how we found it. As a result, this data isn't as \"clean\" as the datasets you normally find on Codecademy. More specifically, there's something odd about the column names. After you figure out the problem with the column names, you may want to rename them to make your life easier for the rest of the project.\n",
    "   \n",
    "   In order to display the full contents of a column, we've added this line of code for you:\n",
    "   \n",
    "   ```py\n",
    "   pd.set_option('display.max_colwidth', None)\n",
    "   ```"
   ]
  },
  {
   "cell_type": "code",
   "execution_count": 1,
   "metadata": {},
   "outputs": [
    {
     "name": "stdout",
     "output_type": "stream",
     "text": [
      "Index(['Show Number', ' Air Date', ' Round', ' Category', ' Value',\n",
      "       ' Question', ' Answer'],\n",
      "      dtype='object')\n",
      "Many of these columns have a leading white space, need to deal with this\n",
      "Index(['Show Number', 'Air Date', 'Round', 'Category', 'Value', 'Question',\n",
      "       'Answer'],\n",
      "      dtype='object')\n",
      "skipinitialspace=True gets rid of all leading whitespace\n"
     ]
    }
   ],
   "source": [
    "import pandas as pd\n",
    "pd.set_option('display.max_colwidth', None)\n",
    "jeopardy_df=pd.read_csv('jeopardy.csv')\n",
    "print(jeopardy_df.columns)\n",
    "print(\"Many of these columns have a leading white space, need to deal with this\")\n",
    "jeopardy_df=pd.read_csv('jeopardy.csv',skipinitialspace=True)\n",
    "print(jeopardy_df.columns)\n",
    "print(\"skipinitialspace=True gets rid of all leading whitespace\")\n"
   ]
  },
  {
   "cell_type": "markdown",
   "metadata": {},
   "source": [
    "2. Write a function that filters the dataset for questions that contains all of the words in a list of words. For example, when the list `[\"King\", \"England\"]` was passed to our function, the function returned a DataFrame of 49 rows. Every row had the strings `\"King\"` and `\"England\"` somewhere in its `\" Question\"`.\n",
    "\n",
    "   Test your function by printing out the column containing the question of each row of the dataset."
   ]
  },
  {
   "cell_type": "code",
   "execution_count": 2,
   "metadata": {},
   "outputs": [
    {
     "name": "stdout",
     "output_type": "stream",
     "text": [
      "106\n",
      "<class 'pandas.core.frame.DataFrame'>\n",
      "        Show Number    Air Date             Round                    Category  \\\n",
      "28570          4752  2005-04-12  Double Jeopardy!                     KING ME   \n",
      "52184          5971  2010-07-26  Double Jeopardy!       ON THE BRITISH THRONE   \n",
      "54982           961  1988-11-07  Double Jeopardy!            EUROPEAN HISTORY   \n",
      "59780          2776  1996-09-30  Double Jeopardy!                   POTPOURRI   \n",
      "69991          5393  2008-02-06  Double Jeopardy!                     MISSING   \n",
      "79269          5215  2007-04-20  Double Jeopardy!             BRITISH ROYALTY   \n",
      "80794          4267  2003-03-04  Double Jeopardy!                     ROYALTY   \n",
      "95375          3381  1999-04-26  Double Jeopardy!       MEDITERRANEAN HISTORY   \n",
      "170222         3159  1998-04-30         Jeopardy!                       KINGS   \n",
      "188559         3365  1999-04-02  Double Jeopardy!                ARCHITECTURE   \n",
      "192265         6292  2012-01-17  Double Jeopardy!  NORWAY'S CULTURE & HISTORY   \n",
      "196287         2992  1997-09-09  Double Jeopardy!                     HISTORY   \n",
      "\n",
      "        Value  \\\n",
      "28570   $1600   \n",
      "52184   $2000   \n",
      "54982    $800   \n",
      "59780   $1000   \n",
      "69991   $1600   \n",
      "79269    $400   \n",
      "80794   $2000   \n",
      "95375    $200   \n",
      "170222   $500   \n",
      "188559   $400   \n",
      "192265  $1600   \n",
      "196287  $1000   \n",
      "\n",
      "                                                                                                                                                                                                                                                                                                                                                                                       Question  \\\n",
      "28570                                                                                                                                                                                                                                                                                    The IV king of this name (following the Norman Conquest) brought the House of York to England's throne   \n",
      "52184   (<a href=\"http://www.j-archive.com/media/2010-07-26_DJ_10.jpg\" target=\"_blank\">Jimmy of the Clue Crew reports from in front of the Bayeux Tapestry.</a>)  The tapestry opens in 1064 with this childless king on England's throne; 11th century sources say the <a href=\"http://www.j-archive.com/media/2010-07-26_DJ_10.jpg\" target=\"_blank\">meeting</a> is about naming his successor   \n",
      "54982                                                                                                                                                                                                                                                                                        When England's Queen Anne died, this German became king because he was a great grandson of James I   \n",
      "59780                                                                                                                                                                                                                                                                                 In literature, restoration refers to the period after the return of this king to England's throne in 1660   \n",
      "69991                                                                                                                                                                                                                                                                                                Chronological lists of England's kings are missing 1649-1660, between 2 kings of this name   \n",
      "79269                                                                                                                                                                                                                                                                         He called himself \"king of Great Britain\" after gaining England's throne in 1603--he was already king of Scotland   \n",
      "80794                                                                                                                                                                                                                                                                                              England's last Lancastrian king, he was imprisoned & murdered in the Tower of London in 1471   \n",
      "95375                                                                                                                                                                                                                                                                                             Like England's William I, Aragon's Jaime I won this nickname, in part by taking over Valencia   \n",
      "170222                                                                                                                                                                                                                                                                                                                       A breed of spaniel is named for England's second king of this name   \n",
      "188559                                                                                                                                                                                                                                                                                                   This style influenced by the Romans is named for England's 4 kings between 1714 & 1830   \n",
      "192265                                 (<a href=\"http://www.j-archive.com/media/2012-01-17_DJ_25.jpg\" target=\"_blank\">Sarah of the Clue Crew stands in front of the Royal Palace in Oslo, Norway.</a>) King Harald V lives here, in Norway's Royal Palace. He and his second cousin, England's Queen Elizabeth, are both great-grandchildren of this British king, who ruled from 1901 to 1910.   \n",
      "196287                                                                                                                                                                                                                                                                                                                             England's Richard III was the last king of this ruling house   \n",
      "\n",
      "                      Answer  \n",
      "28570                 Edward  \n",
      "52184   Edward the Confessor  \n",
      "54982               George I  \n",
      "59780             Charles II  \n",
      "69991                Charles  \n",
      "79269                James I  \n",
      "80794               Henry VI  \n",
      "95375        \"The Conqueror\"  \n",
      "170222            Charles II  \n",
      "188559              Georgian  \n",
      "192265            Edward VII  \n",
      "196287                  York  \n"
     ]
    }
   ],
   "source": [
    "def question_contains_words(df,words):\n",
    "    return df.loc[df.Question.apply(lambda x: all(word in x for word in words))] \n",
    "    # x here is the entire string of each question value in each row, \n",
    "    #the all() function takes a list of booleans and only returns true if all entries are True\n",
    "    # word in x for word in words <-- this part generates a list of booleans that could be [True,True] if all the words are in the question\n",
    "    #df[\"Question\"].apply <---- this applies this logic on the question column of df and returns only the rows where it is true, it actually creates a series of False and True values \n",
    "    ##df.loc[ <---- this makes sure to generate a dataframe type with only the rows with True values.\n",
    "\n",
    "king_england_series=question_contains_words(jeopardy_df,[\"England\", \"king\"])\n",
    "print(len(king_england_series))\n",
    "print(type(king_england_series))\n",
    "\n",
    "#print(king_england_series.loc[king_england_series.Question.str.contains('Viking')])\n",
    "#The following data frame has 5 rows with Viking in it but this is because king is inside Viking. This is a mistake\n",
    "\n",
    "print(king_england_series.loc[king_england_series.Question.str.contains('England\\'s')])\n",
    "#there are rows with the value England\n"
   ]
  },
  {
   "cell_type": "code",
   "execution_count": 19,
   "metadata": {},
   "outputs": [
    {
     "name": "stdout",
     "output_type": "stream",
     "text": [
      "118\n",
      "6337      In retaliation for Viking raids, this \"Unready\" king of England attacks Norse areas of the Isle of Man\n",
      "148050                In the late 800s, this king of Wessex prevented the Vikings from conquering all of England\n",
      "Name: Question, dtype: object\n",
      "\n",
      "---\n",
      "\n",
      "This member of the Medici family was the mother-in-law of England's King Charles I\n"
     ]
    }
   ],
   "source": [
    "import re\n",
    "\n",
    "\n",
    "  # Add the global flag 're.G'\n",
    "# jeopardy_df['Value'] = jeopardy_df['Value'].apply(lambda x: pattern.sub('', x))\n",
    "\n",
    "\n",
    "def question_contains_words_advanced(df,words):\n",
    "    pattern = re.compile('[^\\w\\s]')\n",
    "    return df.loc[df.Question.apply(lambda x: all(word.lower() in pattern.sub(' ', x).lower().split() for word in words))] \n",
    "    # This part pattern.sub(' ', x) replaces anything that is not a word or whitespace character with a whitespace character\n",
    "    # the goal with this regex sub is to temporarily replace all punctuation with a blank\n",
    "    #The .lower here makes everything lower case so it will catch cases like England or england or any variation in case\n",
    "    #The .split of x will turn a question of string type like \"This is a list\" into [\"This\",\"is\",\"a\",\"list\"]\n",
    "\n",
    "king_england_series_advanced=question_contains_words_advanced(jeopardy_df,[\"England\", \"King\"])\n",
    "print(len(king_england_series_advanced))\n",
    "\n",
    "print(king_england_series_advanced.Question.loc[king_england_series_advanced.Question.str.contains('Viking')])\n",
    "#This does find rows with the word Viking, but they also have the words England and King so it is ok.\n",
    "print(\"\\n---\\n\")\n",
    "print(king_england_series_advanced.Question.loc[king_england_series_advanced.Question.str.contains('England\\'s')].iloc[1])\n",
    "#This function also finds instances of England's"
   ]
  },
  {
   "cell_type": "markdown",
   "metadata": {},
   "source": [
    "3. Test your original function with a few different sets of words to try to find some ways your function breaks. Edit your function so it is more robust.\n",
    "\n",
    "   For example, think about capitalization. We probably want to find questions that contain the word `\"King\"` or `\"king\"`.\n",
    "   \n",
    "   You may also want to check to make sure you don't find rows that contain substrings of your given words. For example, our function found a question that didn't contain the word `\"king\"`, however it did contain the word `\"viking\"` &mdash; it found the `\"king\"` inside `\"viking\"`. Note that this also comes with some drawbacks &mdash; you would no longer find questions that contained words like `\"England's\"`."
   ]
  },
  {
   "cell_type": "code",
   "execution_count": null,
   "metadata": {},
   "outputs": [],
   "source": []
  },
  {
   "cell_type": "markdown",
   "metadata": {},
   "source": [
    "4. We may want to eventually compute aggregate statistics, like `.mean()` on the `\" Value\"` column. But right now, the values in that column are strings. Convert the`\" Value\"` column to floats. If you'd like to, you can create a new column with float values.\n",
    "\n",
    "   While most of the values in the `\" Value\"` column represent a dollar amount as a string, note that some do not &mdash; these values will need to be handled differently!\n",
    "\n",
    "   Now that you can filter the dataset of question, use your new column that contains the float values of each question to find the \"difficulty\" of certain topics. For example, what is the average value of questions that contain the word `\"King\"`?\n",
    "   \n",
    "   Make sure to use the dataset that contains the float values as the dataset you use in your filtering function."
   ]
  },
  {
   "cell_type": "code",
   "execution_count": 20,
   "metadata": {},
   "outputs": [
    {
     "name": "stdout",
     "output_type": "stream",
     "text": [
      "$200\n",
      "200.0\n",
      "803.2981049562683\n"
     ]
    }
   ],
   "source": [
    "print(jeopardy_df.Value.iloc[0])# Uh oh there are $ and also , in our values\n",
    "jeopardy_df[\"float_value\"] = jeopardy_df[\"Value\"].apply(lambda x: float(x[1:].replace(',','')) if x != \"no value\" else 0)\n",
    "# this part float(x[1:].replace(',','') replaces all instances of commas with empty character and converts to float\n",
    "# it also starts at index 1 which will not include the leading $ in all values so $2,000 of type string will become 2000.0 type float\n",
    "# this only happens if  Value does not equal to \"no value\" otherwise it will be replaced by 0\n",
    "\n",
    "print(jeopardy_df[\"float_value\"].iloc[0])\n",
    "\n",
    "only_king=question_contains_words_advanced(jeopardy_df,[\"King\"])\n",
    "print(only_king.float_value.mean())\n",
    "\n",
    "\n"
   ]
  },
  {
   "cell_type": "code",
   "execution_count": null,
   "metadata": {},
   "outputs": [],
   "source": []
  },
  {
   "cell_type": "code",
   "execution_count": null,
   "metadata": {},
   "outputs": [],
   "source": []
  },
  {
   "cell_type": "markdown",
   "metadata": {},
   "source": [
    "5. Write a function that returns the count of unique answers to all of the questions in a dataset. For example, after filtering the entire dataset to only questions containing the word `\"King\"`, we could then find all of the unique answers to those questions. The answer \"Henry VIII\" appeared 55 times and was the most common answer."
   ]
  },
  {
   "cell_type": "code",
   "execution_count": 27,
   "metadata": {},
   "outputs": [
    {
     "name": "stdout",
     "output_type": "stream",
     "text": [
      "1499\n",
      "0    Henry VIII\n",
      "Name: Answer, dtype: object\n",
      "54\n"
     ]
    }
   ],
   "source": [
    "def unique_answers(df):\n",
    "    return(df.Answer.nunique())\n",
    "\n",
    "print(unique_answers(only_king))\n",
    "print(only_king.Answer.mode())\n",
    "#print(only_king[loc(only_king[\"Answer\"].isin([\"Henry VIII\"])))\n",
    "print(len(only_king[only_king.Answer == \"Henry VIII\"]))\n",
    "#print(only_king.Question.loc[only_king.Question.str.contains(\"King\\.\")])"
   ]
  },
  {
   "cell_type": "markdown",
   "metadata": {},
   "source": [
    "6. Explore from here! This is an incredibly rich dataset, and there are so many interesting things to discover. There are a few columns that we haven't even started looking at yet. Here are some ideas on ways to continue working with this data:\n",
    "\n",
    " * Investigate the ways in which questions change over time by filtering by the date. How many questions from the 90s use the word `\"Computer\"` compared to questions from the 2000s?\n",
    " * Is there a connection between the round and the category? Are you more likely to find certain categories, like `\"Literature\"` in Single Jeopardy or Double Jeopardy?\n",
    " * Build a system to quiz yourself. Grab random questions, and use the <a href=\"https://docs.python.org/3/library/functions.html#input\">input</a> function to get a response from the user. Check to see if that response was right or wrong."
   ]
  },
  {
   "cell_type": "code",
   "execution_count": null,
   "metadata": {},
   "outputs": [],
   "source": []
  },
  {
   "cell_type": "markdown",
   "metadata": {},
   "source": [
    "## Solution"
   ]
  },
  {
   "cell_type": "markdown",
   "metadata": {},
   "source": [
    "7. Compare your program to our <a href=\"https://content.codecademy.com/PRO/independent-practice-projects/jeopardy/jeopardy_solution.zip\">sample solution code</a> - remember, that your program might look different from ours (and probably will) and that's okay!"
   ]
  },
  {
   "cell_type": "markdown",
   "metadata": {},
   "source": [
    "8. Great work! Visit <a href=\"https://discuss.codecademy.com/t/this-is-jeopardy-challenge-project-python-pandas/462365\">our forums</a> to compare your project to our sample solution code. You can also learn how to host your own solution on GitHub so you can share it with other learners! Your solution might look different from ours, and that's okay! There are multiple ways to solve these projects, and you'll learn more by seeing others' code."
   ]
  },
  {
   "cell_type": "code",
   "execution_count": null,
   "metadata": {},
   "outputs": [],
   "source": []
  }
 ],
 "metadata": {
  "kernelspec": {
   "display_name": "Python 3 (ipykernel)",
   "language": "python",
   "name": "python3"
  },
  "language_info": {
   "codemirror_mode": {
    "name": "ipython",
    "version": 3
   },
   "file_extension": ".py",
   "mimetype": "text/x-python",
   "name": "python",
   "nbconvert_exporter": "python",
   "pygments_lexer": "ipython3",
   "version": "3.11.7"
  }
 },
 "nbformat": 4,
 "nbformat_minor": 4
}
