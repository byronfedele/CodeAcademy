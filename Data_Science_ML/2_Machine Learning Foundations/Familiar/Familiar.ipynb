{
 "cells": [
  {
   "cell_type": "markdown",
   "id": "a84bac6f-a7b8-445a-9aec-84d49126e274",
   "metadata": {},
   "source": [
    "# Familiar: Data Analysis for Marketing Strategies\n",
    "\n",
    "Familiar is a startup in the new market of blood transfusion! They offer their subcribers two packages called Vein and Artery. This study hopes to answer the following questions:\n",
    "\n",
    "- Is the average lifespan of a Vein Pack subscriber significantly different from the average life expectancy of 73 years.\n",
    "\n",
    "- Is the average lifespan of a Vein Pack subscriber significantly different from the average life expectancy for the Artery Pack?\n",
    "\n",
    "- Is there a significant association between which pack (Vein vs. Artery) someone subscribes to and their iron level?\n",
    "\n",
    "The company has provided two csv files with data on its subscribers in order to answer these questions. \n",
    "\n",
    "- familiar_lifespan.csv \n",
    "- familiar_iron.csv"
   ]
  },
  {
   "cell_type": "code",
   "execution_count": 1,
   "id": "82a67bbb-fbbd-42b7-b0cb-918fee0f758b",
   "metadata": {},
   "outputs": [
    {
     "name": "stdout",
     "output_type": "stream",
     "text": [
      "     pack   lifespan\n",
      "0    vein  76.255090\n",
      "1  artery  76.404504\n",
      "2  artery  75.952442\n",
      "3  artery  76.923082\n",
      "4  artery  73.771212\n"
     ]
    }
   ],
   "source": [
    "# Import libraries\n",
    "import pandas as pd\n",
    "import numpy as np\n",
    "import scipy.stats as stats\n",
    "from scipy.stats import chi2_contingency\n",
    "\n",
    "# Load datasets\n",
    "lifespans = pd.read_csv('familiar_lifespan.csv')\n",
    "iron = pd.read_csv('familiar_iron.csv')\n",
    "print(lifespans.head())"
   ]
  },
  {
   "cell_type": "markdown",
   "id": "23feb80f-3422-43b9-9490-020ea3f458c2",
   "metadata": {},
   "source": [
    "Based on this output, the familiar_lifespan.csv has two columns. The first being the pack (vein/artery) and the other being lifespan (ex. 76.255090) "
   ]
  },
  {
   "cell_type": "code",
   "execution_count": 2,
   "id": "4c404ddc-ef62-4508-bf7b-2937fa078dc2",
   "metadata": {},
   "outputs": [
    {
     "name": "stdout",
     "output_type": "stream",
     "text": [
      "The average lifespan for subscribers of the Vein pack is 76.16901335636044\n"
     ]
    }
   ],
   "source": [
    "vein_pack_lifespans = lifespans.lifespan[lifespans.pack == 'vein']\n",
    "avg_vein_pack_lifespans = np.mean(vein_pack_lifespans)\n",
    "print(\"The average lifespan for subscribers of the Vein pack is {}\".format(avg_vein_pack_lifespans))"
   ]
  },
  {
   "cell_type": "markdown",
   "id": "b6d643fb-4795-42e8-8491-cc295e707c78",
   "metadata": {},
   "source": [
    "Using this information we can perform a one sample t-test in order to see wether the average lifespan of a Vein Pack subscriber is significantly different from the average life expectancy of 73 years. We are using a significane threshold of 0.05"
   ]
  },
  {
   "cell_type": "code",
   "execution_count": 3,
   "id": "0db9bc7a-a600-492f-ab72-84056a008f48",
   "metadata": {},
   "outputs": [
    {
     "name": "stdout",
     "output_type": "stream",
     "text": [
      "The P Value for this test is 5.972157921433201e-07\n"
     ]
    }
   ],
   "source": [
    "t_statistic, p_value = stats.ttest_1samp(vein_pack_lifespans, 73)\n",
    "print(\"The P Value for this test is {}\".format(p_value))"
   ]
  },
  {
   "cell_type": "markdown",
   "id": "0b9ed7a1-d14c-43fc-b74a-a171a155516b",
   "metadata": {},
   "source": [
    "This is much smaller than 0.05, so *we conclude that the average lifespan of Vein Pack subscribers is significantly different from 73 years.*\n",
    "\n",
    "Now lets look at the other pack called Artery, specifically its mean"
   ]
  },
  {
   "cell_type": "code",
   "execution_count": 4,
   "id": "b0f3efb0-a9a2-4763-933e-1abdb92e4d61",
   "metadata": {},
   "outputs": [
    {
     "name": "stdout",
     "output_type": "stream",
     "text": [
      "The mean for the Artery pack is 74.8736622351704\n"
     ]
    }
   ],
   "source": [
    "artery_pack_lifespans = lifespans.lifespan[lifespans.pack == 'artery']\n",
    "avg_artery_pack_lifespans = np.mean(artery_pack_lifespans)\n",
    "print(\"The mean for the Artery pack is {}\".format(avg_artery_pack_lifespans))"
   ]
  },
  {
   "cell_type": "markdown",
   "id": "e53cc664-54f5-4dfb-bb87-8dbf7c4222ff",
   "metadata": {},
   "source": [
    "Now that we know this, we can answer the question of wether the average lifespan of a Vein Pack subscriber is significantly different from the average lifespan for the Artery Pack. We will be answering this using a two sample t-test."
   ]
  },
  {
   "cell_type": "code",
   "execution_count": 5,
   "id": "3344ba42-5c04-4f6a-b0ad-52f0556732ed",
   "metadata": {},
   "outputs": [
    {
     "name": "stdout",
     "output_type": "stream",
     "text": [
      "The P Value for this test is 0.055888830790708194\n"
     ]
    }
   ],
   "source": [
    "t_statistic, p_value = stats.ttest_ind(vein_pack_lifespans, artery_pack_lifespans)\n",
    "print(\"The P Value for this test is {}\".format(p_value))"
   ]
  },
  {
   "cell_type": "markdown",
   "id": "050d9a58-6bb8-4c9e-a422-92ef6aaea01e",
   "metadata": {},
   "source": [
    "Although the average lifespan of subscribers to Vein and Artery packs are different, since this p-value fails to be below our significance threshold (0.05), *it is not significantly different*\n",
    "\n",
    "Now we shift our attention to iron levels in subscribers of both packs and wether any statistical association exists."
   ]
  },
  {
   "cell_type": "code",
   "execution_count": 6,
   "id": "c6999d5b-7d56-488b-a16b-7dbafc0de90f",
   "metadata": {},
   "outputs": [
    {
     "name": "stdout",
     "output_type": "stream",
     "text": [
      "     pack    iron\n",
      "0    vein     low\n",
      "1  artery  normal\n",
      "2  artery  normal\n",
      "3  artery  normal\n",
      "4  artery    high\n",
      "['low' 'normal' 'high']\n"
     ]
    }
   ],
   "source": [
    "print(iron.head())\n",
    "print(iron.iron.unique())"
   ]
  },
  {
   "cell_type": "markdown",
   "id": "d467a0b3-a021-40e2-be34-b123c1015232",
   "metadata": {},
   "source": [
    "We use the familiar_iron.csv file for this analysis. It has two columns as well, with one being pack (artery/vein) and the other for iron levels. The unique values for this iron column is ['low' 'normal' 'high']  \n",
    "\n",
    "From this we can create a cross table and then perform a chi-square test on it."
   ]
  },
  {
   "cell_type": "code",
   "execution_count": 7,
   "id": "99f8567e-0715-4739-95ed-d981854aa084",
   "metadata": {},
   "outputs": [
    {
     "name": "stdout",
     "output_type": "stream",
     "text": [
      "iron    high  low  normal\n",
      "pack                     \n",
      "artery    87   29      29\n",
      "vein      20  140      40\n",
      "The P Value for this test is 9.359749337433006e-25\n"
     ]
    }
   ],
   "source": [
    "contingency_table = pd.crosstab(iron.pack,iron.iron)\n",
    "print(contingency_table)\n",
    "chi2, p_value, dof, expected = chi2_contingency(contingency_table)\n",
    "print(\"The P Value for this test is {}\".format(p_value))"
   ]
  },
  {
   "cell_type": "markdown",
   "id": "063ca564-82e6-47b5-84ba-37516b40c198",
   "metadata": {},
   "source": [
    "This P-value lands well below our 0.05 signifigance threshold which means *there is a significant association between which pack (Vein vs. Artery) someone subscribes to and their iron level*"
   ]
  }
 ],
 "metadata": {
  "kernelspec": {
   "display_name": "Python 3 (ipykernel)",
   "language": "python",
   "name": "python3"
  },
  "language_info": {
   "codemirror_mode": {
    "name": "ipython",
    "version": 3
   },
   "file_extension": ".py",
   "mimetype": "text/x-python",
   "name": "python",
   "nbconvert_exporter": "python",
   "pygments_lexer": "ipython3",
   "version": "3.11.7"
  }
 },
 "nbformat": 4,
 "nbformat_minor": 5
}
