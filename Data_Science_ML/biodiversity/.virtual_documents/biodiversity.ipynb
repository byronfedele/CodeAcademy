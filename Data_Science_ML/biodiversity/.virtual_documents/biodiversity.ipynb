


import pandas as pd
import numpy as np
import warnings
from matplotlib import pyplot as plt
import seaborn as sns

%matplotlib inline
warnings.filterwarnings("ignore", module="seaborn")
warnings.filterwarnings("ignore", category=FutureWarning) 





species = pd.read_csv('species_info.csv',encoding='utf-8')
species.head()


species.shape


species.describe(include='all')


species.dtypes


species.conservation_status.unique()


species.category.unique()


print(pd.isna(species).sum())





sns.histplot(data=species,y='conservation_status',legend=None)
plt.title("Count Distribution by Conservation Status")
plt.ylabel("Conservation Status")
plt.xlabel("Count")
plt.show()
plt.clf()
#col_order=['Vascular Plant','Bird','Nonvascular Plant','Mammal','Fish','Amphibian','Reptile']
sns.histplot(data=species,palette='Spectral',legend=None,hue='category',y='category')
plt.title("Count Distribution by Species Category")
plt.ylabel("Species Category")
plt.xlabel("Count")
plt.show()
plt.clf()









observations = pd.read_csv('observations.csv', encoding='utf-8')
observations.head()


observations.describe(include='all')


observations.shape


observations.dtypes


print(pd.isna(observations).sum())


print(observations.park_name.value_counts())


print(observations.park_name.unique())














observations_by_parkname=observations.groupby('park_name').observations.sum()
observations_by_parkname_df=pd.DataFrame({'park_name':observations_by_parkname.index,
                                            'observation_sum':observations_by_parkname.values})
obp_df= observations_by_parkname_df.sort_values(
    by=['observation_sum'],ascending=False).reset_index(drop=True)
#print(obp_df)
ax =sns.barplot(obp_df,x='observation_sum',y='park_name')
plt.title("Observations by Park")
plt.ylabel("Park Name")
plt.xlabel("Count")
plt.show()





sns.catplot(species,y='conservation_status',hue='category',kind='count')
plt.tight_layout()
plt.title("Count of Species Category by Conservation Status Category")
plt.xlabel("Count")
plt.ylabel("Conservation Status")
plt.show()
plt.clf()





observations_species = pd.merge(observations, species,  on='scientific_name')
o_s = observations_species.drop_duplicates(subset=['scientific_name', 'park_name', 'observations', 'category'])
o_s_cat= pd.DataFrame(o_s.groupby(['category','park_name']).observations.sum().reset_index())
g = sns.FacetGrid(o_s_cat, col="park_name",hue="category", height=3, aspect=1)
g.map(sns.barplot, "observations", "category")
g.set_titles(col_template="{col_name}",row_template="{row_name}")
g.fig.suptitle('Species Category Observations by Park')
plt.tight_layout()
plt.show()

o_s_cat_no_plants = o_s_cat[
(o_s_cat.category != 'Vascular Plant') & (o_s_cat.category != 'Nonvascular Plant') ]
g = sns.FacetGrid(o_s_cat_no_plants, col="park_name",hue="category", height=3, aspect=1)
g.map(sns.barplot, "observations", "category")
g.set_titles(col_template="{col_name}",row_template="{row_name}")
g.fig.suptitle('Species Category Observations by Park (Not Including Plants)')
plt.tight_layout()
plt.show()





o_c_p= pd.DataFrame(o_s.groupby(['conservation_status','park_name']).observations.sum().reset_index())
g = sns.FacetGrid(o_c_p, col="park_name",hue="conservation_status", height=3, aspect=1)
g.map(sns.barplot, "observations", "conservation_status")
g.set_titles(col_template="{col_name}",row_template="{row_name}")
plt.tight_layout()
plt.show()





species_name_observations = observations.groupby('scientific_name').observations.sum()
species_name_observations_conservation_status = pd.merge(species_name_observations,species,how='left',on='scientific_name')
species_name_observations_conservation_status=species_name_observations_conservation_status.dropna(subset=['conservation_status'])
species_name_observations_df = pd.DataFrame({'scientific_name':species_name_observations_conservation_status.scientific_name,
                                            'observation_sum':species_name_observations_conservation_status.observations,
                                            'conservation_status':species_name_observations_conservation_status.conservation_status,
                                            'category':species_name_observations_conservation_status.category}).reset_index(drop=True)
species_name_observations_df= species_name_observations_df.sort_values(by=['observation_sum']).reset_index(drop=True)
#print(species_name_observations_df.iloc[:20])
sns.barplot(species_name_observations_df.iloc[:25],x='observation_sum',y='scientific_name',hue='category')
plt.title("Top 25 Least Observed Species Across all Parks")
plt.ylabel("Scientific Name")
plt.xlabel("# of Observations Across all Parks")
plt.tight_layout()
plt.show()
sns.barplot(species_name_observations_df.iloc[:25],x='observation_sum',y='scientific_name',hue='conservation_status')
plt.title("Top 25 Least Observed Species Across all Parks")
plt.ylabel("Scientific Name")
plt.xlabel("# of Observations Across all Parks")
plt.tight_layout()
plt.show()











from scipy.stats import chi2_contingency
cat_constat = species.groupby(["category","conservation_status"]).scientific_name.nunique().reset_index().pivot(columns='conservation_status',
                                      index='category',
                                      values='scientific_name').reset_index()
cat_constat.columns = ['category', 'Endangered', 'In Recovery','Species of Concern','Threatened']
cat_constat=cat_constat.fillna(0)
print(cat_constat)
contingency = [[68, 0],
               [4, 2]]
chi2_contingency(contingency)












